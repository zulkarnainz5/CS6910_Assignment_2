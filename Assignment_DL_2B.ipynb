{
  "nbformat": 4,
  "nbformat_minor": 0,
  "metadata": {
    "colab": {
      "provenance": [],
      "gpuType": "T4"
    },
    "kernelspec": {
      "name": "python3",
      "display_name": "Python 3"
    },
    "language_info": {
      "name": "python"
    },
    "accelerator": "GPU",
    "widgets": {
      "application/vnd.jupyter.widget-state+json": {
        "811be2749ee345ae9b5790738f9e6e12": {
          "model_module": "@jupyter-widgets/controls",
          "model_name": "VBoxModel",
          "model_module_version": "1.5.0",
          "state": {
            "_dom_classes": [],
            "_model_module": "@jupyter-widgets/controls",
            "_model_module_version": "1.5.0",
            "_model_name": "VBoxModel",
            "_view_count": null,
            "_view_module": "@jupyter-widgets/controls",
            "_view_module_version": "1.5.0",
            "_view_name": "VBoxView",
            "box_style": "",
            "children": [
              "IPY_MODEL_e80dd85539a14d928dd0649e3c2504cb",
              "IPY_MODEL_6c16b499b36c4abd841669b3d03cf2e0"
            ],
            "layout": "IPY_MODEL_e28d905d938c46ed94d3d6c504e2a6cb"
          }
        },
        "e80dd85539a14d928dd0649e3c2504cb": {
          "model_module": "@jupyter-widgets/controls",
          "model_name": "LabelModel",
          "model_module_version": "1.5.0",
          "state": {
            "_dom_classes": [],
            "_model_module": "@jupyter-widgets/controls",
            "_model_module_version": "1.5.0",
            "_model_name": "LabelModel",
            "_view_count": null,
            "_view_module": "@jupyter-widgets/controls",
            "_view_module_version": "1.5.0",
            "_view_name": "LabelView",
            "description": "",
            "description_tooltip": null,
            "layout": "IPY_MODEL_0b2842781eb84dba9ad61fdc5c0adb22",
            "placeholder": "​",
            "style": "IPY_MODEL_51eca3c9f618484a97236c9f8f54698b",
            "value": "0.011 MB of 0.011 MB uploaded\r"
          }
        },
        "6c16b499b36c4abd841669b3d03cf2e0": {
          "model_module": "@jupyter-widgets/controls",
          "model_name": "FloatProgressModel",
          "model_module_version": "1.5.0",
          "state": {
            "_dom_classes": [],
            "_model_module": "@jupyter-widgets/controls",
            "_model_module_version": "1.5.0",
            "_model_name": "FloatProgressModel",
            "_view_count": null,
            "_view_module": "@jupyter-widgets/controls",
            "_view_module_version": "1.5.0",
            "_view_name": "ProgressView",
            "bar_style": "",
            "description": "",
            "description_tooltip": null,
            "layout": "IPY_MODEL_a7b4a6ed80b24943b258e644712ed119",
            "max": 1,
            "min": 0,
            "orientation": "horizontal",
            "style": "IPY_MODEL_482082010c36410f999b5527e63a49af",
            "value": 1
          }
        },
        "e28d905d938c46ed94d3d6c504e2a6cb": {
          "model_module": "@jupyter-widgets/base",
          "model_name": "LayoutModel",
          "model_module_version": "1.2.0",
          "state": {
            "_model_module": "@jupyter-widgets/base",
            "_model_module_version": "1.2.0",
            "_model_name": "LayoutModel",
            "_view_count": null,
            "_view_module": "@jupyter-widgets/base",
            "_view_module_version": "1.2.0",
            "_view_name": "LayoutView",
            "align_content": null,
            "align_items": null,
            "align_self": null,
            "border": null,
            "bottom": null,
            "display": null,
            "flex": null,
            "flex_flow": null,
            "grid_area": null,
            "grid_auto_columns": null,
            "grid_auto_flow": null,
            "grid_auto_rows": null,
            "grid_column": null,
            "grid_gap": null,
            "grid_row": null,
            "grid_template_areas": null,
            "grid_template_columns": null,
            "grid_template_rows": null,
            "height": null,
            "justify_content": null,
            "justify_items": null,
            "left": null,
            "margin": null,
            "max_height": null,
            "max_width": null,
            "min_height": null,
            "min_width": null,
            "object_fit": null,
            "object_position": null,
            "order": null,
            "overflow": null,
            "overflow_x": null,
            "overflow_y": null,
            "padding": null,
            "right": null,
            "top": null,
            "visibility": null,
            "width": null
          }
        },
        "0b2842781eb84dba9ad61fdc5c0adb22": {
          "model_module": "@jupyter-widgets/base",
          "model_name": "LayoutModel",
          "model_module_version": "1.2.0",
          "state": {
            "_model_module": "@jupyter-widgets/base",
            "_model_module_version": "1.2.0",
            "_model_name": "LayoutModel",
            "_view_count": null,
            "_view_module": "@jupyter-widgets/base",
            "_view_module_version": "1.2.0",
            "_view_name": "LayoutView",
            "align_content": null,
            "align_items": null,
            "align_self": null,
            "border": null,
            "bottom": null,
            "display": null,
            "flex": null,
            "flex_flow": null,
            "grid_area": null,
            "grid_auto_columns": null,
            "grid_auto_flow": null,
            "grid_auto_rows": null,
            "grid_column": null,
            "grid_gap": null,
            "grid_row": null,
            "grid_template_areas": null,
            "grid_template_columns": null,
            "grid_template_rows": null,
            "height": null,
            "justify_content": null,
            "justify_items": null,
            "left": null,
            "margin": null,
            "max_height": null,
            "max_width": null,
            "min_height": null,
            "min_width": null,
            "object_fit": null,
            "object_position": null,
            "order": null,
            "overflow": null,
            "overflow_x": null,
            "overflow_y": null,
            "padding": null,
            "right": null,
            "top": null,
            "visibility": null,
            "width": null
          }
        },
        "51eca3c9f618484a97236c9f8f54698b": {
          "model_module": "@jupyter-widgets/controls",
          "model_name": "DescriptionStyleModel",
          "model_module_version": "1.5.0",
          "state": {
            "_model_module": "@jupyter-widgets/controls",
            "_model_module_version": "1.5.0",
            "_model_name": "DescriptionStyleModel",
            "_view_count": null,
            "_view_module": "@jupyter-widgets/base",
            "_view_module_version": "1.2.0",
            "_view_name": "StyleView",
            "description_width": ""
          }
        },
        "a7b4a6ed80b24943b258e644712ed119": {
          "model_module": "@jupyter-widgets/base",
          "model_name": "LayoutModel",
          "model_module_version": "1.2.0",
          "state": {
            "_model_module": "@jupyter-widgets/base",
            "_model_module_version": "1.2.0",
            "_model_name": "LayoutModel",
            "_view_count": null,
            "_view_module": "@jupyter-widgets/base",
            "_view_module_version": "1.2.0",
            "_view_name": "LayoutView",
            "align_content": null,
            "align_items": null,
            "align_self": null,
            "border": null,
            "bottom": null,
            "display": null,
            "flex": null,
            "flex_flow": null,
            "grid_area": null,
            "grid_auto_columns": null,
            "grid_auto_flow": null,
            "grid_auto_rows": null,
            "grid_column": null,
            "grid_gap": null,
            "grid_row": null,
            "grid_template_areas": null,
            "grid_template_columns": null,
            "grid_template_rows": null,
            "height": null,
            "justify_content": null,
            "justify_items": null,
            "left": null,
            "margin": null,
            "max_height": null,
            "max_width": null,
            "min_height": null,
            "min_width": null,
            "object_fit": null,
            "object_position": null,
            "order": null,
            "overflow": null,
            "overflow_x": null,
            "overflow_y": null,
            "padding": null,
            "right": null,
            "top": null,
            "visibility": null,
            "width": null
          }
        },
        "482082010c36410f999b5527e63a49af": {
          "model_module": "@jupyter-widgets/controls",
          "model_name": "ProgressStyleModel",
          "model_module_version": "1.5.0",
          "state": {
            "_model_module": "@jupyter-widgets/controls",
            "_model_module_version": "1.5.0",
            "_model_name": "ProgressStyleModel",
            "_view_count": null,
            "_view_module": "@jupyter-widgets/base",
            "_view_module_version": "1.2.0",
            "_view_name": "StyleView",
            "bar_color": null,
            "description_width": ""
          }
        },
        "545b59a2547540a885d89ba9e65b64ec": {
          "model_module": "@jupyter-widgets/controls",
          "model_name": "VBoxModel",
          "model_module_version": "1.5.0",
          "state": {
            "_dom_classes": [],
            "_model_module": "@jupyter-widgets/controls",
            "_model_module_version": "1.5.0",
            "_model_name": "VBoxModel",
            "_view_count": null,
            "_view_module": "@jupyter-widgets/controls",
            "_view_module_version": "1.5.0",
            "_view_name": "VBoxView",
            "box_style": "",
            "children": [
              "IPY_MODEL_150fac0aa44d4343ad893185ff331d07",
              "IPY_MODEL_30fb4f9443474bd69c995a53ca0bd7eb"
            ],
            "layout": "IPY_MODEL_28b1c91847bf4417a2972d013d91c87d"
          }
        },
        "150fac0aa44d4343ad893185ff331d07": {
          "model_module": "@jupyter-widgets/controls",
          "model_name": "LabelModel",
          "model_module_version": "1.5.0",
          "state": {
            "_dom_classes": [],
            "_model_module": "@jupyter-widgets/controls",
            "_model_module_version": "1.5.0",
            "_model_name": "LabelModel",
            "_view_count": null,
            "_view_module": "@jupyter-widgets/controls",
            "_view_module_version": "1.5.0",
            "_view_name": "LabelView",
            "description": "",
            "description_tooltip": null,
            "layout": "IPY_MODEL_bb3d87136f2a42a5a614140a15b6f09b",
            "placeholder": "​",
            "style": "IPY_MODEL_8847bb4583334634a44782e3595b1011",
            "value": "0.015 MB of 0.015 MB uploaded\r"
          }
        },
        "30fb4f9443474bd69c995a53ca0bd7eb": {
          "model_module": "@jupyter-widgets/controls",
          "model_name": "FloatProgressModel",
          "model_module_version": "1.5.0",
          "state": {
            "_dom_classes": [],
            "_model_module": "@jupyter-widgets/controls",
            "_model_module_version": "1.5.0",
            "_model_name": "FloatProgressModel",
            "_view_count": null,
            "_view_module": "@jupyter-widgets/controls",
            "_view_module_version": "1.5.0",
            "_view_name": "ProgressView",
            "bar_style": "",
            "description": "",
            "description_tooltip": null,
            "layout": "IPY_MODEL_b106b70bea14407fbe1fe16982a3e128",
            "max": 1,
            "min": 0,
            "orientation": "horizontal",
            "style": "IPY_MODEL_c4487f9da07d478cbd98c0c135103f80",
            "value": 1
          }
        },
        "28b1c91847bf4417a2972d013d91c87d": {
          "model_module": "@jupyter-widgets/base",
          "model_name": "LayoutModel",
          "model_module_version": "1.2.0",
          "state": {
            "_model_module": "@jupyter-widgets/base",
            "_model_module_version": "1.2.0",
            "_model_name": "LayoutModel",
            "_view_count": null,
            "_view_module": "@jupyter-widgets/base",
            "_view_module_version": "1.2.0",
            "_view_name": "LayoutView",
            "align_content": null,
            "align_items": null,
            "align_self": null,
            "border": null,
            "bottom": null,
            "display": null,
            "flex": null,
            "flex_flow": null,
            "grid_area": null,
            "grid_auto_columns": null,
            "grid_auto_flow": null,
            "grid_auto_rows": null,
            "grid_column": null,
            "grid_gap": null,
            "grid_row": null,
            "grid_template_areas": null,
            "grid_template_columns": null,
            "grid_template_rows": null,
            "height": null,
            "justify_content": null,
            "justify_items": null,
            "left": null,
            "margin": null,
            "max_height": null,
            "max_width": null,
            "min_height": null,
            "min_width": null,
            "object_fit": null,
            "object_position": null,
            "order": null,
            "overflow": null,
            "overflow_x": null,
            "overflow_y": null,
            "padding": null,
            "right": null,
            "top": null,
            "visibility": null,
            "width": null
          }
        },
        "bb3d87136f2a42a5a614140a15b6f09b": {
          "model_module": "@jupyter-widgets/base",
          "model_name": "LayoutModel",
          "model_module_version": "1.2.0",
          "state": {
            "_model_module": "@jupyter-widgets/base",
            "_model_module_version": "1.2.0",
            "_model_name": "LayoutModel",
            "_view_count": null,
            "_view_module": "@jupyter-widgets/base",
            "_view_module_version": "1.2.0",
            "_view_name": "LayoutView",
            "align_content": null,
            "align_items": null,
            "align_self": null,
            "border": null,
            "bottom": null,
            "display": null,
            "flex": null,
            "flex_flow": null,
            "grid_area": null,
            "grid_auto_columns": null,
            "grid_auto_flow": null,
            "grid_auto_rows": null,
            "grid_column": null,
            "grid_gap": null,
            "grid_row": null,
            "grid_template_areas": null,
            "grid_template_columns": null,
            "grid_template_rows": null,
            "height": null,
            "justify_content": null,
            "justify_items": null,
            "left": null,
            "margin": null,
            "max_height": null,
            "max_width": null,
            "min_height": null,
            "min_width": null,
            "object_fit": null,
            "object_position": null,
            "order": null,
            "overflow": null,
            "overflow_x": null,
            "overflow_y": null,
            "padding": null,
            "right": null,
            "top": null,
            "visibility": null,
            "width": null
          }
        },
        "8847bb4583334634a44782e3595b1011": {
          "model_module": "@jupyter-widgets/controls",
          "model_name": "DescriptionStyleModel",
          "model_module_version": "1.5.0",
          "state": {
            "_model_module": "@jupyter-widgets/controls",
            "_model_module_version": "1.5.0",
            "_model_name": "DescriptionStyleModel",
            "_view_count": null,
            "_view_module": "@jupyter-widgets/base",
            "_view_module_version": "1.2.0",
            "_view_name": "StyleView",
            "description_width": ""
          }
        },
        "b106b70bea14407fbe1fe16982a3e128": {
          "model_module": "@jupyter-widgets/base",
          "model_name": "LayoutModel",
          "model_module_version": "1.2.0",
          "state": {
            "_model_module": "@jupyter-widgets/base",
            "_model_module_version": "1.2.0",
            "_model_name": "LayoutModel",
            "_view_count": null,
            "_view_module": "@jupyter-widgets/base",
            "_view_module_version": "1.2.0",
            "_view_name": "LayoutView",
            "align_content": null,
            "align_items": null,
            "align_self": null,
            "border": null,
            "bottom": null,
            "display": null,
            "flex": null,
            "flex_flow": null,
            "grid_area": null,
            "grid_auto_columns": null,
            "grid_auto_flow": null,
            "grid_auto_rows": null,
            "grid_column": null,
            "grid_gap": null,
            "grid_row": null,
            "grid_template_areas": null,
            "grid_template_columns": null,
            "grid_template_rows": null,
            "height": null,
            "justify_content": null,
            "justify_items": null,
            "left": null,
            "margin": null,
            "max_height": null,
            "max_width": null,
            "min_height": null,
            "min_width": null,
            "object_fit": null,
            "object_position": null,
            "order": null,
            "overflow": null,
            "overflow_x": null,
            "overflow_y": null,
            "padding": null,
            "right": null,
            "top": null,
            "visibility": null,
            "width": null
          }
        },
        "c4487f9da07d478cbd98c0c135103f80": {
          "model_module": "@jupyter-widgets/controls",
          "model_name": "ProgressStyleModel",
          "model_module_version": "1.5.0",
          "state": {
            "_model_module": "@jupyter-widgets/controls",
            "_model_module_version": "1.5.0",
            "_model_name": "ProgressStyleModel",
            "_view_count": null,
            "_view_module": "@jupyter-widgets/base",
            "_view_module_version": "1.2.0",
            "_view_name": "StyleView",
            "bar_color": null,
            "description_width": ""
          }
        }
      }
    }
  },
  "cells": [
    {
      "cell_type": "code",
      "execution_count": null,
      "metadata": {
        "id": "TqgUUdv4vc4Y"
      },
      "outputs": [],
      "source": [
        "import numpy as np\n",
        "import torch\n",
        "import torchvision\n",
        "import torch.nn as nn\n",
        "from torchvision import datasets, transforms, models\n",
        "from torch.utils.data import DataLoader, random_split\n",
        "from torchvision.datasets import ImageFolder\n",
        "import torch.nn.init\n",
        "import torch.optim as optim\n",
        "from torch.autograd import Variable\n",
        "from torch.nn.functional import batch_norm\n",
        "import matplotlib.pyplot as plt\n",
        "from tqdm import tqdm"
      ]
    },
    {
      "cell_type": "code",
      "source": [
        "!pip install wandb\n",
        "import wandb"
      ],
      "metadata": {
        "colab": {
          "base_uri": "https://localhost:8080/"
        },
        "id": "AxU7xFtavl_E",
        "outputId": "278b179d-5f99-4863-c416-97c1e99f75fc"
      },
      "execution_count": null,
      "outputs": [
        {
          "output_type": "stream",
          "name": "stdout",
          "text": [
            "Collecting wandb\n",
            "  Downloading wandb-0.16.6-py3-none-any.whl (2.2 MB)\n",
            "\u001b[2K     \u001b[90m━━━━━━━━━━━━━━━━━━━━━━━━━━━━━━━━━━━━━━━━\u001b[0m \u001b[32m2.2/2.2 MB\u001b[0m \u001b[31m10.6 MB/s\u001b[0m eta \u001b[36m0:00:00\u001b[0m\n",
            "\u001b[?25hRequirement already satisfied: Click!=8.0.0,>=7.1 in /usr/local/lib/python3.10/dist-packages (from wandb) (8.1.7)\n",
            "Collecting GitPython!=3.1.29,>=1.0.0 (from wandb)\n",
            "  Downloading GitPython-3.1.43-py3-none-any.whl (207 kB)\n",
            "\u001b[2K     \u001b[90m━━━━━━━━━━━━━━━━━━━━━━━━━━━━━━━━━━━━━━━━\u001b[0m \u001b[32m207.3/207.3 kB\u001b[0m \u001b[31m27.6 MB/s\u001b[0m eta \u001b[36m0:00:00\u001b[0m\n",
            "\u001b[?25hRequirement already satisfied: requests<3,>=2.0.0 in /usr/local/lib/python3.10/dist-packages (from wandb) (2.31.0)\n",
            "Requirement already satisfied: psutil>=5.0.0 in /usr/local/lib/python3.10/dist-packages (from wandb) (5.9.5)\n",
            "Collecting sentry-sdk>=1.0.0 (from wandb)\n",
            "  Downloading sentry_sdk-1.45.0-py2.py3-none-any.whl (267 kB)\n",
            "\u001b[2K     \u001b[90m━━━━━━━━━━━━━━━━━━━━━━━━━━━━━━━━━━━━━━━━\u001b[0m \u001b[32m267.1/267.1 kB\u001b[0m \u001b[31m30.6 MB/s\u001b[0m eta \u001b[36m0:00:00\u001b[0m\n",
            "\u001b[?25hCollecting docker-pycreds>=0.4.0 (from wandb)\n",
            "  Downloading docker_pycreds-0.4.0-py2.py3-none-any.whl (9.0 kB)\n",
            "Requirement already satisfied: PyYAML in /usr/local/lib/python3.10/dist-packages (from wandb) (6.0.1)\n",
            "Collecting setproctitle (from wandb)\n",
            "  Downloading setproctitle-1.3.3-cp310-cp310-manylinux_2_5_x86_64.manylinux1_x86_64.manylinux_2_17_x86_64.manylinux2014_x86_64.whl (30 kB)\n",
            "Requirement already satisfied: setuptools in /usr/local/lib/python3.10/dist-packages (from wandb) (67.7.2)\n",
            "Requirement already satisfied: appdirs>=1.4.3 in /usr/local/lib/python3.10/dist-packages (from wandb) (1.4.4)\n",
            "Requirement already satisfied: protobuf!=4.21.0,<5,>=3.19.0 in /usr/local/lib/python3.10/dist-packages (from wandb) (3.20.3)\n",
            "Requirement already satisfied: six>=1.4.0 in /usr/local/lib/python3.10/dist-packages (from docker-pycreds>=0.4.0->wandb) (1.16.0)\n",
            "Collecting gitdb<5,>=4.0.1 (from GitPython!=3.1.29,>=1.0.0->wandb)\n",
            "  Downloading gitdb-4.0.11-py3-none-any.whl (62 kB)\n",
            "\u001b[2K     \u001b[90m━━━━━━━━━━━━━━━━━━━━━━━━━━━━━━━━━━━━━━━━\u001b[0m \u001b[32m62.7/62.7 kB\u001b[0m \u001b[31m8.7 MB/s\u001b[0m eta \u001b[36m0:00:00\u001b[0m\n",
            "\u001b[?25hRequirement already satisfied: charset-normalizer<4,>=2 in /usr/local/lib/python3.10/dist-packages (from requests<3,>=2.0.0->wandb) (3.3.2)\n",
            "Requirement already satisfied: idna<4,>=2.5 in /usr/local/lib/python3.10/dist-packages (from requests<3,>=2.0.0->wandb) (3.6)\n",
            "Requirement already satisfied: urllib3<3,>=1.21.1 in /usr/local/lib/python3.10/dist-packages (from requests<3,>=2.0.0->wandb) (2.0.7)\n",
            "Requirement already satisfied: certifi>=2017.4.17 in /usr/local/lib/python3.10/dist-packages (from requests<3,>=2.0.0->wandb) (2024.2.2)\n",
            "Collecting smmap<6,>=3.0.1 (from gitdb<5,>=4.0.1->GitPython!=3.1.29,>=1.0.0->wandb)\n",
            "  Downloading smmap-5.0.1-py3-none-any.whl (24 kB)\n",
            "Installing collected packages: smmap, setproctitle, sentry-sdk, docker-pycreds, gitdb, GitPython, wandb\n",
            "Successfully installed GitPython-3.1.43 docker-pycreds-0.4.0 gitdb-4.0.11 sentry-sdk-1.45.0 setproctitle-1.3.3 smmap-5.0.1 wandb-0.16.6\n"
          ]
        }
      ]
    },
    {
      "cell_type": "code",
      "source": [
        "!wandb login"
      ],
      "metadata": {
        "colab": {
          "base_uri": "https://localhost:8080/"
        },
        "id": "2bWd0-5XvofF",
        "outputId": "d54359df-d085-4c3a-edb7-6e74b6c5b895"
      },
      "execution_count": null,
      "outputs": [
        {
          "output_type": "stream",
          "name": "stdout",
          "text": [
            "\u001b[34m\u001b[1mwandb\u001b[0m: Logging into wandb.ai. (Learn how to deploy a W&B server locally: https://wandb.me/wandb-server)\n",
            "\u001b[34m\u001b[1mwandb\u001b[0m: You can find your API key in your browser here: https://wandb.ai/authorize\n",
            "\u001b[34m\u001b[1mwandb\u001b[0m: Paste an API key from your profile and hit enter, or press ctrl+c to quit: \n",
            "Aborted!\n"
          ]
        }
      ]
    },
    {
      "cell_type": "code",
      "source": [
        "entity_name=\"team_zulkar\"\n",
        "\n",
        "project_name=\"CS6910_Assignment_2A\""
      ],
      "metadata": {
        "id": "iQCnyw7Cvq-w"
      },
      "execution_count": null,
      "outputs": []
    },
    {
      "cell_type": "code",
      "source": [
        "from google.colab import drive\n",
        "drive.mount('/content/gdrive')"
      ],
      "metadata": {
        "colab": {
          "base_uri": "https://localhost:8080/"
        },
        "id": "cjtpzz151zcN",
        "outputId": "7c6c5fd1-0150-4217-e857-938e0979c3d5"
      },
      "execution_count": null,
      "outputs": [
        {
          "output_type": "stream",
          "name": "stdout",
          "text": [
            "Mounted at /content/gdrive\n"
          ]
        }
      ]
    },
    {
      "cell_type": "code",
      "source": [
        "def unaug_data():\n",
        "    data = '/content/gdrive/My Drive/inaturalist_12K'\n",
        "\n",
        "    ## Unaugmented data\n",
        "\n",
        "\n",
        "    data_transforms = transforms.Compose([\n",
        "        transforms.Resize((224,224)),\n",
        "        transforms.ToTensor(),\n",
        "        transforms.Normalize((0.5, 0.5, 0.5), (0.5, 0.5, 0.5))\n",
        "    ])\n",
        "\n",
        "\n",
        "    #train dataset\n",
        "    train_dataset = datasets.ImageFolder(root=f\"{data}/train\", transform=data_transforms)\n",
        "    #test dataset\n",
        "    test_dataset = datasets.ImageFolder(root=f\"{data}/val\", transform=data_transforms)\n",
        "\n",
        "    initial_size = len(train_dataset)\n",
        "    train_size = int(0.8 * initial_size)\n",
        "    val_size = initial_size - train_size\n",
        "\n",
        "    # Spliting the train dataset into train and validation data\n",
        "    train_dataset, val_dataset = random_split(train_dataset, [train_size, val_size])\n",
        "\n",
        "    # Loading the dataset\n",
        "    train_loader = torch.utils.data.DataLoader(train_dataset, batch_size=32, shuffle=True, num_workers=2)\n",
        "    test_loader = torch.utils.data.DataLoader(test_dataset, batch_size=32, shuffle=True, num_workers=2)\n",
        "    val_loader = torch.utils.data.DataLoader(val_dataset, batch_size=32, shuffle=True, num_workers=2)\n",
        "\n",
        "    return  train_loader, test_loader, val_loader"
      ],
      "metadata": {
        "id": "6cGSXYvGvttv"
      },
      "execution_count": null,
      "outputs": []
    },
    {
      "cell_type": "code",
      "source": [
        "def aug_data():\n",
        "    data = '/content/gdrive/My Drive/inaturalist_12K'\n",
        "\n",
        "    ## augmented data\n",
        "\n",
        "\n",
        "    train_transform = transforms.Compose([transforms.RandomHorizontalFlip(p=0.5),\n",
        "              transforms.RandomVerticalFlip(p=0.5),\n",
        "              transforms.RandomRotation((120)),\n",
        "              transforms.RandomApply(torch.nn.ModuleList([transforms.ColorJitter()]), p=0.5),\n",
        "              transforms.Resize((224,224)),\n",
        "              transforms.ToTensor(),\n",
        "              transforms.Normalize((0.5, 0.5, 0.5), (0.5, 0.5, 0.5))\n",
        "    ])\n",
        "\n",
        "    test_transform = transforms.Compose([\n",
        "        transforms.Resize((224,224)),\n",
        "        transforms.ToTensor(),\n",
        "        transforms.Normalize((0.5, 0.5, 0.5), (0.5, 0.5, 0.5))\n",
        "    ])\n",
        "\n",
        "\n",
        "    #train dataset\n",
        "    train_dataset = datasets.ImageFolder(root=f\"{data}/train\", transform=train_transform)\n",
        "    #test dataset\n",
        "    test_dataset = datasets.ImageFolder(root=f\"{data}/val\", transform=test_transform)\n",
        "\n",
        "    initial_size = len(train_dataset)\n",
        "    train_size = int(0.8 * initial_size)\n",
        "    val_size = initial_size - train_size\n",
        "\n",
        "    # Spliting the train dataset into train and validation data\n",
        "    train_dataset, val_dataset = random_split(train_dataset, [train_size, val_size])\n",
        "\n",
        "    # Loading the dataset\n",
        "    train_loader = torch.utils.data.DataLoader(train_dataset, batch_size=32, shuffle=True, num_workers=2)\n",
        "    test_loader = torch.utils.data.DataLoader(test_dataset, batch_size=32, shuffle=True, num_workers=2)\n",
        "    val_loader = torch.utils.data.DataLoader(val_dataset, batch_size=32, shuffle=True, num_workers=2)\n",
        "    return  train_loader, test_loader, val_loader"
      ],
      "metadata": {
        "id": "gJB4aYNTvwnO"
      },
      "execution_count": null,
      "outputs": []
    },
    {
      "cell_type": "code",
      "source": [
        "print(torch.cuda.is_available())"
      ],
      "metadata": {
        "colab": {
          "base_uri": "https://localhost:8080/"
        },
        "id": "KbQNi-0VzcE7",
        "outputId": "775f3d8e-f5a4-4f94-ac69-fd5242d0a50c"
      },
      "execution_count": null,
      "outputs": [
        {
          "output_type": "stream",
          "name": "stdout",
          "text": [
            "True\n"
          ]
        }
      ]
    },
    {
      "cell_type": "code",
      "source": [
        "def Resnet_50():\n",
        "  device = 'cuda' if torch.cuda.is_available() else 'cpu'\n",
        "  model= models.resnet50(pretrained=True).to(device)\n",
        "\n",
        "  for param in model.parameters():\n",
        "    param.requires_grad = False\n",
        "\n",
        "  num_inputs = model.fc.in_features\n",
        "  model.fc = nn.Sequential(\n",
        "               nn.Linear(num_inputs, 2048),\n",
        "               nn.ReLU(inplace=True),\n",
        "               nn.Dropout(0.3),\n",
        "               nn.Linear(2048, 10))\n",
        "  return model"
      ],
      "metadata": {
        "id": "_6dwsDygvzDM"
      },
      "execution_count": null,
      "outputs": []
    },
    {
      "cell_type": "code",
      "source": [
        "def resnet_training(data_augmentation):\n",
        "\n",
        "  device = 'cuda' if torch.cuda.is_available() else 'cpu'\n",
        "  model=Resnet_50().to(device)\n",
        "  optimizer = optim.Adam(model.parameters(),lr=1e-3)\n",
        "  criterion = nn.CrossEntropyLoss().to(device)\n",
        "\n",
        "  if data_augmentation:\n",
        "        train_loader, test_loader, val_loader = aug_data()\n",
        "  else:\n",
        "        train_loader, test_loader, val_loader = unaug_data()\n",
        "\n",
        "  num_epochs=25\n",
        "  gpu_train = torch.cuda.is_available()\n",
        "  wandb.init()\n",
        "\n",
        "  for epoch in tqdm(range(1, num_epochs+1)):\n",
        "      train_loss = 0.0\n",
        "      val_loss = 0.0\n",
        "      val_accuracy = 0.0\n",
        "      train_accuracy=0.0\n",
        "      total=0.0\n",
        "      correct=0.0\n",
        "\n",
        "\n",
        "      model.train()\n",
        "      for batch in train_loader:\n",
        "              inputs, labels = batch\n",
        "              if gpu_train:\n",
        "                inputs, labels = inputs.cuda(), labels.cuda()\n",
        "              optimizer.zero_grad()\n",
        "              outputs = model(inputs)\n",
        "              loss = criterion(outputs, labels)\n",
        "              loss.backward()\n",
        "              optimizer.step()\n",
        "              train_loss += loss.item()*inputs.size(0)\n",
        "              _, predicted = torch.max(outputs, 1)\n",
        "              total += labels.size(0)\n",
        "              correct += (predicted == labels).sum().item()\n",
        "\n",
        "      train_accuracy = 100 * correct / total\n",
        "      print(f\"Train Accuracy: {train_accuracy:.4f}%\")\n",
        "\n",
        "\n",
        "      model.eval()\n",
        "      for batch in val_loader:\n",
        "            inputs, labels = batch\n",
        "            if gpu_train:\n",
        "              inputs, labels = inputs.cuda(), labels.cuda()\n",
        "            optimizer.zero_grad()\n",
        "            outputs = model(inputs)\n",
        "            loss = criterion(outputs, labels)\n",
        "            val_loss += loss.item()*inputs.size(0)\n",
        "            _, predicted = torch.max(outputs, 1)\n",
        "            total += labels.size(0)\n",
        "            correct += (predicted == labels).sum().item()\n",
        "\n",
        "      val_accuracy = 100 * correct / total\n",
        "      print(f\"Validation Accuracy: {val_accuracy:.4f}%\")\n",
        "\n",
        "\n",
        "      train_loss = train_loss/len(train_loader.dataset)\n",
        "      val_loss = val_loss/len(val_loader.dataset)\n",
        "      val_accuracy = val_accuracy\n",
        "      train_accuracy = train_accuracy\n",
        "\n",
        "      wandb_log = True\n",
        "      if(wandb_log==True):\n",
        "        epoc=0\n",
        "        log_dict = {\"Train_loss\": train_loss, \"Validation_loss\": val_loss, \"Validation_Accuracy\": val_accuracy,\"Train_Accuracy\": train_accuracy}\n",
        "        epoc=epoc+1\n",
        "        print('Epoch: {} \\tTraining Loss: {:.4f} \\tValidation Loss: {:.4f} \\tValidation Accuracy: {:.4f} \\Train Accuracy: {:.4f}'.format(epoc,\n",
        "          train_loss, val_loss,val_accuracy, train_accuracy))\n",
        "\n",
        "      wandb.log(log_dict)\n",
        "\n",
        "  wandb.run.save()\n",
        "  wandb.run.finish()\n",
        "  return model\n",
        "\n"
      ],
      "metadata": {
        "id": "sYlB9FLh1BC-"
      },
      "execution_count": null,
      "outputs": []
    },
    {
      "cell_type": "code",
      "source": [
        "trained_model=resnet_training(False)"
      ],
      "metadata": {
        "colab": {
          "base_uri": "https://localhost:8080/",
          "height": 1000,
          "referenced_widgets": [
            "811be2749ee345ae9b5790738f9e6e12",
            "e80dd85539a14d928dd0649e3c2504cb",
            "6c16b499b36c4abd841669b3d03cf2e0",
            "e28d905d938c46ed94d3d6c504e2a6cb",
            "0b2842781eb84dba9ad61fdc5c0adb22",
            "51eca3c9f618484a97236c9f8f54698b",
            "a7b4a6ed80b24943b258e644712ed119",
            "482082010c36410f999b5527e63a49af",
            "545b59a2547540a885d89ba9e65b64ec",
            "150fac0aa44d4343ad893185ff331d07",
            "30fb4f9443474bd69c995a53ca0bd7eb",
            "28b1c91847bf4417a2972d013d91c87d",
            "bb3d87136f2a42a5a614140a15b6f09b",
            "8847bb4583334634a44782e3595b1011",
            "b106b70bea14407fbe1fe16982a3e128",
            "c4487f9da07d478cbd98c0c135103f80"
          ]
        },
        "id": "Tya8FM4qEr1A",
        "outputId": "d66d1664-50b7-43b4-e00c-07705aaf48fe"
      },
      "execution_count": null,
      "outputs": [
        {
          "output_type": "stream",
          "name": "stderr",
          "text": [
            "/usr/local/lib/python3.10/dist-packages/torchvision/models/_utils.py:208: UserWarning: The parameter 'pretrained' is deprecated since 0.13 and may be removed in the future, please use 'weights' instead.\n",
            "  warnings.warn(\n",
            "/usr/local/lib/python3.10/dist-packages/torchvision/models/_utils.py:223: UserWarning: Arguments other than a weight enum or `None` for 'weights' are deprecated since 0.13 and may be removed in the future. The current behavior is equivalent to passing `weights=ResNet50_Weights.IMAGENET1K_V1`. You can also use `weights=ResNet50_Weights.DEFAULT` to get the most up-to-date weights.\n",
            "  warnings.warn(msg)\n"
          ]
        },
        {
          "output_type": "display_data",
          "data": {
            "text/plain": [
              "<IPython.core.display.HTML object>"
            ],
            "text/html": [
              "Finishing last run (ID:7xqeyoy9) before initializing another..."
            ]
          },
          "metadata": {}
        },
        {
          "output_type": "display_data",
          "data": {
            "text/plain": [
              "VBox(children=(Label(value='0.011 MB of 0.011 MB uploaded\\r'), FloatProgress(value=1.0, max=1.0)))"
            ],
            "application/vnd.jupyter.widget-view+json": {
              "version_major": 2,
              "version_minor": 0,
              "model_id": "811be2749ee345ae9b5790738f9e6e12"
            }
          },
          "metadata": {}
        },
        {
          "output_type": "display_data",
          "data": {
            "text/plain": [
              "<IPython.core.display.HTML object>"
            ],
            "text/html": [
              " View run <strong style=\"color:#cdcd00\">comic-lake-11</strong> at: <a href='https://wandb.ai/team_zulkar/uncategorized/runs/7xqeyoy9' target=\"_blank\">https://wandb.ai/team_zulkar/uncategorized/runs/7xqeyoy9</a><br/> View project at: <a href='https://wandb.ai/team_zulkar/uncategorized' target=\"_blank\">https://wandb.ai/team_zulkar/uncategorized</a><br/>Synced 5 W&B file(s), 0 media file(s), 0 artifact file(s) and 0 other file(s)"
            ]
          },
          "metadata": {}
        },
        {
          "output_type": "display_data",
          "data": {
            "text/plain": [
              "<IPython.core.display.HTML object>"
            ],
            "text/html": [
              "Find logs at: <code>./wandb/run-20240415_021253-7xqeyoy9/logs</code>"
            ]
          },
          "metadata": {}
        },
        {
          "output_type": "display_data",
          "data": {
            "text/plain": [
              "<IPython.core.display.HTML object>"
            ],
            "text/html": [
              "Successfully finished last run (ID:7xqeyoy9). Initializing new run:<br/>"
            ]
          },
          "metadata": {}
        },
        {
          "output_type": "display_data",
          "data": {
            "text/plain": [
              "<IPython.core.display.HTML object>"
            ],
            "text/html": [
              "Tracking run with wandb version 0.16.6"
            ]
          },
          "metadata": {}
        },
        {
          "output_type": "display_data",
          "data": {
            "text/plain": [
              "<IPython.core.display.HTML object>"
            ],
            "text/html": [
              "Run data is saved locally in <code>/content/wandb/run-20240415_021417-4s7r0f1v</code>"
            ]
          },
          "metadata": {}
        },
        {
          "output_type": "display_data",
          "data": {
            "text/plain": [
              "<IPython.core.display.HTML object>"
            ],
            "text/html": [
              "Syncing run <strong><a href='https://wandb.ai/team_zulkar/uncategorized/runs/4s7r0f1v' target=\"_blank\">frosty-dawn-12</a></strong> to <a href='https://wandb.ai/team_zulkar/uncategorized' target=\"_blank\">Weights & Biases</a> (<a href='https://wandb.me/run' target=\"_blank\">docs</a>)<br/>"
            ]
          },
          "metadata": {}
        },
        {
          "output_type": "display_data",
          "data": {
            "text/plain": [
              "<IPython.core.display.HTML object>"
            ],
            "text/html": [
              " View project at <a href='https://wandb.ai/team_zulkar/uncategorized' target=\"_blank\">https://wandb.ai/team_zulkar/uncategorized</a>"
            ]
          },
          "metadata": {}
        },
        {
          "output_type": "display_data",
          "data": {
            "text/plain": [
              "<IPython.core.display.HTML object>"
            ],
            "text/html": [
              " View run at <a href='https://wandb.ai/team_zulkar/uncategorized/runs/4s7r0f1v' target=\"_blank\">https://wandb.ai/team_zulkar/uncategorized/runs/4s7r0f1v</a>"
            ]
          },
          "metadata": {}
        },
        {
          "output_type": "stream",
          "name": "stderr",
          "text": [
            "\r  0%|          | 0/25 [00:00<?, ?it/s]/usr/lib/python3.10/multiprocessing/popen_fork.py:66: RuntimeWarning: os.fork() was called. os.fork() is incompatible with multithreaded code, and JAX is multithreaded, so this will likely lead to a deadlock.\n",
            "  self.pid = os.fork()\n"
          ]
        },
        {
          "output_type": "stream",
          "name": "stdout",
          "text": [
            "Train Accuracy: 60.8272%\n"
          ]
        },
        {
          "output_type": "stream",
          "name": "stderr",
          "text": [
            "\r  4%|▍         | 1/25 [18:29<7:23:50, 1109.60s/it]"
          ]
        },
        {
          "output_type": "stream",
          "name": "stdout",
          "text": [
            "Validation Accuracy: 62.9448%\n",
            "Epoch: 1 \tTraining Loss: 1.1999 \tValidation Loss: 0.8667 \tValidation Accuracy: 62.9448 \\Train Accuracy: 60.8272\n",
            "Train Accuracy: 69.5489%\n"
          ]
        },
        {
          "output_type": "stream",
          "name": "stderr",
          "text": [
            "\r  8%|▊         | 2/25 [20:45<3:25:52, 537.09s/it] "
          ]
        },
        {
          "output_type": "stream",
          "name": "stdout",
          "text": [
            "Validation Accuracy: 70.1519%\n",
            "Epoch: 1 \tTraining Loss: 0.9202 \tValidation Loss: 0.8500 \tValidation Accuracy: 70.1519 \\Train Accuracy: 69.5489\n",
            "Train Accuracy: 71.9480%\n"
          ]
        },
        {
          "output_type": "stream",
          "name": "stderr",
          "text": [
            "\r 12%|█▏        | 3/25 [23:00<2:09:30, 353.21s/it]"
          ]
        },
        {
          "output_type": "stream",
          "name": "stdout",
          "text": [
            "Validation Accuracy: 71.8613%\n",
            "Epoch: 1 \tTraining Loss: 0.8522 \tValidation Loss: 0.8770 \tValidation Accuracy: 71.8613 \\Train Accuracy: 71.9480\n",
            "Train Accuracy: 73.0851%\n"
          ]
        },
        {
          "output_type": "stream",
          "name": "stderr",
          "text": [
            "\r 16%|█▌        | 4/25 [25:16<1:33:38, 267.53s/it]"
          ]
        },
        {
          "output_type": "stream",
          "name": "stdout",
          "text": [
            "Validation Accuracy: 73.0708%\n",
            "Epoch: 1 \tTraining Loss: 0.8093 \tValidation Loss: 0.8387 \tValidation Accuracy: 73.0708 \\Train Accuracy: 73.0851\n",
            "Train Accuracy: 74.1472%\n"
          ]
        },
        {
          "output_type": "stream",
          "name": "stderr",
          "text": [
            "\r 20%|██        | 5/25 [27:32<1:13:20, 220.00s/it]"
          ]
        },
        {
          "output_type": "stream",
          "name": "stdout",
          "text": [
            "Validation Accuracy: 73.9704%\n",
            "Epoch: 1 \tTraining Loss: 0.7896 \tValidation Loss: 0.8252 \tValidation Accuracy: 73.9704 \\Train Accuracy: 74.1472\n",
            "Train Accuracy: 74.1222%\n"
          ]
        },
        {
          "output_type": "stream",
          "name": "stderr",
          "text": [
            "\r 24%|██▍       | 6/25 [29:45<1:00:20, 190.56s/it]"
          ]
        },
        {
          "output_type": "stream",
          "name": "stdout",
          "text": [
            "Validation Accuracy: 74.3802%\n",
            "Epoch: 1 \tTraining Loss: 0.7816 \tValidation Loss: 0.7768 \tValidation Accuracy: 74.3802 \\Train Accuracy: 74.1222\n",
            "Train Accuracy: 74.2597%\n"
          ]
        },
        {
          "output_type": "stream",
          "name": "stderr",
          "text": [
            "\r 28%|██▊       | 7/25 [32:00<51:39, 172.19s/it]  "
          ]
        },
        {
          "output_type": "stream",
          "name": "stdout",
          "text": [
            "Validation Accuracy: 74.6701%\n",
            "Epoch: 1 \tTraining Loss: 0.7623 \tValidation Loss: 0.7398 \tValidation Accuracy: 74.6701 \\Train Accuracy: 74.2597\n",
            "Train Accuracy: 75.9340%\n"
          ]
        },
        {
          "output_type": "stream",
          "name": "stderr",
          "text": [
            "\r 32%|███▏      | 8/25 [34:14<45:25, 160.30s/it]"
          ]
        },
        {
          "output_type": "stream",
          "name": "stdout",
          "text": [
            "Validation Accuracy: 75.7397%\n",
            "Epoch: 1 \tTraining Loss: 0.7128 \tValidation Loss: 0.7634 \tValidation Accuracy: 75.7397 \\Train Accuracy: 75.9340\n",
            "Train Accuracy: 76.8712%\n"
          ]
        },
        {
          "output_type": "stream",
          "name": "stderr",
          "text": [
            "\r 36%|███▌      | 9/25 [36:28<40:32, 152.02s/it]"
          ]
        },
        {
          "output_type": "stream",
          "name": "stdout",
          "text": [
            "Validation Accuracy: 76.1295%\n",
            "Epoch: 1 \tTraining Loss: 0.6910 \tValidation Loss: 0.8100 \tValidation Accuracy: 76.1295 \\Train Accuracy: 76.8712\n",
            "Train Accuracy: 76.9836%\n"
          ]
        },
        {
          "output_type": "stream",
          "name": "stderr",
          "text": [
            "\r 40%|████      | 10/25 [38:44<36:45, 147.04s/it]"
          ]
        },
        {
          "output_type": "stream",
          "name": "stdout",
          "text": [
            "Validation Accuracy: 76.8792%\n",
            "Epoch: 1 \tTraining Loss: 0.6757 \tValidation Loss: 0.7453 \tValidation Accuracy: 76.8792 \\Train Accuracy: 76.9836\n",
            "Train Accuracy: 77.9083%\n"
          ]
        },
        {
          "output_type": "stream",
          "name": "stderr",
          "text": [
            "\r 44%|████▍     | 11/25 [40:59<33:24, 143.20s/it]"
          ]
        },
        {
          "output_type": "stream",
          "name": "stdout",
          "text": [
            "Validation Accuracy: 77.2791%\n",
            "Epoch: 1 \tTraining Loss: 0.6546 \tValidation Loss: 0.7932 \tValidation Accuracy: 77.2791 \\Train Accuracy: 77.9083\n",
            "Train Accuracy: 77.1336%\n"
          ]
        },
        {
          "output_type": "stream",
          "name": "stderr",
          "text": [
            "\r 48%|████▊     | 12/25 [43:12<30:23, 140.29s/it]"
          ]
        },
        {
          "output_type": "stream",
          "name": "stdout",
          "text": [
            "Validation Accuracy: 77.0092%\n",
            "Epoch: 1 \tTraining Loss: 0.6536 \tValidation Loss: 0.7188 \tValidation Accuracy: 77.0092 \\Train Accuracy: 77.1336\n",
            "Train Accuracy: 78.8829%\n"
          ]
        },
        {
          "output_type": "stream",
          "name": "stderr",
          "text": [
            "\r 52%|█████▏    | 13/25 [45:27<27:42, 138.57s/it]"
          ]
        },
        {
          "output_type": "stream",
          "name": "stdout",
          "text": [
            "Validation Accuracy: 78.1687%\n",
            "Epoch: 1 \tTraining Loss: 0.6103 \tValidation Loss: 0.7601 \tValidation Accuracy: 78.1687 \\Train Accuracy: 78.8829\n",
            "Train Accuracy: 79.2703%\n"
          ]
        },
        {
          "output_type": "stream",
          "name": "stderr",
          "text": [
            "\r 56%|█████▌    | 14/25 [47:44<25:19, 138.13s/it]"
          ]
        },
        {
          "output_type": "stream",
          "name": "stdout",
          "text": [
            "Validation Accuracy: 78.7485%\n",
            "Epoch: 1 \tTraining Loss: 0.6171 \tValidation Loss: 0.7522 \tValidation Accuracy: 78.7485 \\Train Accuracy: 79.2703\n",
            "Train Accuracy: 79.7951%\n"
          ]
        },
        {
          "output_type": "stream",
          "name": "stderr",
          "text": [
            "\r 60%|██████    | 15/25 [49:59<22:51, 137.10s/it]"
          ]
        },
        {
          "output_type": "stream",
          "name": "stdout",
          "text": [
            "Validation Accuracy: 78.8085%\n",
            "Epoch: 1 \tTraining Loss: 0.5834 \tValidation Loss: 0.7837 \tValidation Accuracy: 78.8085 \\Train Accuracy: 79.7951\n",
            "Train Accuracy: 81.6819%\n"
          ]
        },
        {
          "output_type": "stream",
          "name": "stderr",
          "text": [
            "\r 64%|██████▍   | 16/25 [52:13<20:27, 136.40s/it]"
          ]
        },
        {
          "output_type": "stream",
          "name": "stdout",
          "text": [
            "Validation Accuracy: 80.3978%\n",
            "Epoch: 1 \tTraining Loss: 0.5467 \tValidation Loss: 0.8139 \tValidation Accuracy: 80.3978 \\Train Accuracy: 81.6819\n",
            "Train Accuracy: 80.2824%\n"
          ]
        },
        {
          "output_type": "stream",
          "name": "stderr",
          "text": [
            "\r 68%|██████▊   | 17/25 [54:28<18:07, 135.89s/it]"
          ]
        },
        {
          "output_type": "stream",
          "name": "stdout",
          "text": [
            "Validation Accuracy: 79.2983%\n",
            "Epoch: 1 \tTraining Loss: 0.5702 \tValidation Loss: 0.7637 \tValidation Accuracy: 79.2983 \\Train Accuracy: 80.2824\n",
            "Train Accuracy: 81.2445%\n"
          ]
        },
        {
          "output_type": "stream",
          "name": "stderr",
          "text": [
            "\r 72%|███████▏  | 18/25 [56:41<15:45, 135.13s/it]"
          ]
        },
        {
          "output_type": "stream",
          "name": "stdout",
          "text": [
            "Validation Accuracy: 80.1679%\n",
            "Epoch: 1 \tTraining Loss: 0.5450 \tValidation Loss: 0.7371 \tValidation Accuracy: 80.1679 \\Train Accuracy: 81.2445\n",
            "Train Accuracy: 80.8572%\n"
          ]
        },
        {
          "output_type": "stream",
          "name": "stderr",
          "text": [
            "\r 76%|███████▌  | 19/25 [58:57<13:32, 135.35s/it]"
          ]
        },
        {
          "output_type": "stream",
          "name": "stdout",
          "text": [
            "Validation Accuracy: 79.9080%\n",
            "Epoch: 1 \tTraining Loss: 0.5433 \tValidation Loss: 0.7531 \tValidation Accuracy: 79.9080 \\Train Accuracy: 80.8572\n",
            "Train Accuracy: 82.3816%\n"
          ]
        },
        {
          "output_type": "stream",
          "name": "stderr",
          "text": [
            "\r 80%|████████  | 20/25 [1:01:14<11:18, 135.61s/it]"
          ]
        },
        {
          "output_type": "stream",
          "name": "stdout",
          "text": [
            "Validation Accuracy: 81.3575%\n",
            "Epoch: 1 \tTraining Loss: 0.5055 \tValidation Loss: 0.7775 \tValidation Accuracy: 81.3575 \\Train Accuracy: 82.3816\n",
            "Train Accuracy: 82.6565%\n"
          ]
        },
        {
          "output_type": "stream",
          "name": "stderr",
          "text": [
            "\r 84%|████████▍ | 21/25 [1:03:29<09:01, 135.47s/it]"
          ]
        },
        {
          "output_type": "stream",
          "name": "stdout",
          "text": [
            "Validation Accuracy: 81.1575%\n",
            "Epoch: 1 \tTraining Loss: 0.5034 \tValidation Loss: 0.8310 \tValidation Accuracy: 81.1575 \\Train Accuracy: 82.6565\n",
            "Train Accuracy: 82.5815%\n"
          ]
        },
        {
          "output_type": "stream",
          "name": "stderr",
          "text": [
            "\r 88%|████████▊ | 22/25 [1:05:42<06:44, 134.94s/it]"
          ]
        },
        {
          "output_type": "stream",
          "name": "stdout",
          "text": [
            "Validation Accuracy: 81.1275%\n",
            "Epoch: 1 \tTraining Loss: 0.4941 \tValidation Loss: 0.7705 \tValidation Accuracy: 81.1275 \\Train Accuracy: 82.5815\n",
            "Train Accuracy: 83.2313%\n"
          ]
        },
        {
          "output_type": "stream",
          "name": "stderr",
          "text": [
            "\r 92%|█████████▏| 23/25 [1:07:59<04:31, 135.55s/it]"
          ]
        },
        {
          "output_type": "stream",
          "name": "stdout",
          "text": [
            "Validation Accuracy: 81.8373%\n",
            "Epoch: 1 \tTraining Loss: 0.4802 \tValidation Loss: 0.8127 \tValidation Accuracy: 81.8373 \\Train Accuracy: 83.2313\n",
            "Train Accuracy: 83.7686%\n"
          ]
        },
        {
          "output_type": "stream",
          "name": "stderr",
          "text": [
            "\r 96%|█████████▌| 24/25 [1:10:18<02:16, 136.33s/it]"
          ]
        },
        {
          "output_type": "stream",
          "name": "stdout",
          "text": [
            "Validation Accuracy: 81.7773%\n",
            "Epoch: 1 \tTraining Loss: 0.4707 \tValidation Loss: 0.8920 \tValidation Accuracy: 81.7773 \\Train Accuracy: 83.7686\n",
            "Train Accuracy: 84.7057%\n"
          ]
        },
        {
          "output_type": "stream",
          "name": "stderr",
          "text": [
            "100%|██████████| 25/25 [1:12:34<00:00, 174.18s/it]\n",
            "\u001b[34m\u001b[1mwandb\u001b[0m: \u001b[33mWARNING\u001b[0m Calling wandb.run.save without any arguments is deprecated.Changes to attributes are automatically persisted.\n"
          ]
        },
        {
          "output_type": "stream",
          "name": "stdout",
          "text": [
            "Validation Accuracy: 83.1068%\n",
            "Epoch: 1 \tTraining Loss: 0.4497 \tValidation Loss: 0.7880 \tValidation Accuracy: 83.1068 \\Train Accuracy: 84.7057\n"
          ]
        },
        {
          "output_type": "display_data",
          "data": {
            "text/plain": [
              "VBox(children=(Label(value='0.001 MB of 0.001 MB uploaded\\r'), FloatProgress(value=1.0, max=1.0)))"
            ],
            "application/vnd.jupyter.widget-view+json": {
              "version_major": 2,
              "version_minor": 0,
              "model_id": "545b59a2547540a885d89ba9e65b64ec"
            }
          },
          "metadata": {}
        },
        {
          "output_type": "display_data",
          "data": {
            "text/plain": [
              "<IPython.core.display.HTML object>"
            ],
            "text/html": [
              "<style>\n",
              "    table.wandb td:nth-child(1) { padding: 0 10px; text-align: left ; width: auto;} td:nth-child(2) {text-align: left ; width: 100%}\n",
              "    .wandb-row { display: flex; flex-direction: row; flex-wrap: wrap; justify-content: flex-start; width: 100% }\n",
              "    .wandb-col { display: flex; flex-direction: column; flex-basis: 100%; flex: 1; padding: 10px; }\n",
              "    </style>\n",
              "<div class=\"wandb-row\"><div class=\"wandb-col\"><h3>Run history:</h3><br/><table class=\"wandb\"><tr><td>Train_Accuracy</td><td>▁▄▄▅▅▅▅▅▆▆▆▆▆▆▇▇▇▇▇▇▇▇███</td></tr><tr><td>Train_loss</td><td>█▅▅▄▄▄▄▃▃▃▃▃▂▃▂▂▂▂▂▂▂▁▁▁▁</td></tr><tr><td>Validation_Accuracy</td><td>▁▄▄▅▅▅▅▅▆▆▆▆▆▆▇▇▇▇▇▇▇▇███</td></tr><tr><td>Validation_loss</td><td>▇▆▇▆▅▃▂▃▅▂▄▁▃▂▄▅▃▂▂▃▆▃▅█▄</td></tr></table><br/></div><div class=\"wandb-col\"><h3>Run summary:</h3><br/><table class=\"wandb\"><tr><td>Train_Accuracy</td><td>84.70574</td></tr><tr><td>Train_loss</td><td>0.44965</td></tr><tr><td>Validation_Accuracy</td><td>83.10676</td></tr><tr><td>Validation_loss</td><td>0.78796</td></tr></table><br/></div></div>"
            ]
          },
          "metadata": {}
        },
        {
          "output_type": "display_data",
          "data": {
            "text/plain": [
              "<IPython.core.display.HTML object>"
            ],
            "text/html": [
              " View run <strong style=\"color:#cdcd00\">frosty-dawn-12</strong> at: <a href='https://wandb.ai/team_zulkar/uncategorized/runs/4s7r0f1v' target=\"_blank\">https://wandb.ai/team_zulkar/uncategorized/runs/4s7r0f1v</a><br/> View project at: <a href='https://wandb.ai/team_zulkar/uncategorized' target=\"_blank\">https://wandb.ai/team_zulkar/uncategorized</a><br/>Synced 5 W&B file(s), 0 media file(s), 0 artifact file(s) and 0 other file(s)"
            ]
          },
          "metadata": {}
        },
        {
          "output_type": "display_data",
          "data": {
            "text/plain": [
              "<IPython.core.display.HTML object>"
            ],
            "text/html": [
              "Find logs at: <code>./wandb/run-20240415_021417-4s7r0f1v/logs</code>"
            ]
          },
          "metadata": {}
        }
      ]
    },
    {
      "cell_type": "code",
      "source": [],
      "metadata": {
        "id": "OLvh_6x_hsvH"
      },
      "execution_count": null,
      "outputs": []
    }
  ]
}